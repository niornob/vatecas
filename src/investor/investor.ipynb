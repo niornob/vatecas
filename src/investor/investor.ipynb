{
 "cells": [
  {
   "cell_type": "code",
   "execution_count": 1,
   "id": "d8ebfe93",
   "metadata": {},
   "outputs": [],
   "source": [
    "\"\"\"\n",
    "this block is needed at the beginning of all notebooks to be able to load modules\n",
    "\"\"\"\n",
    "import os\n",
    "import sys\n",
    "from pathlib import Path\n",
    "import pandas as pd\n",
    "import numpy as np\n",
    "\n",
    "# Automatically find and append the project root\n",
    "root_path = Path.cwd().resolve().parents[1]  # adjust level as needed\n",
    "data_path = os.path.join(root_path, \"data\")\n",
    "src_path = os.path.join(root_path, \"src\")\n",
    "\n",
    "if str(src_path) not in sys.path:\n",
    "    sys.path.insert(0, str(src_path))"
   ]
  },
  {
   "cell_type": "code",
   "execution_count": 2,
   "id": "65fba9fd",
   "metadata": {},
   "outputs": [],
   "source": [
    "from signal_modules.signal_registry import SignalRegistry\n",
    "\n",
    "from investor.portfolio import Portfolio\n",
    "from investor.portfolio_registry import PortfolioRegistry"
   ]
  },
  {
   "cell_type": "code",
   "execution_count": 3,
   "id": "7389dd6e",
   "metadata": {},
   "outputs": [],
   "source": [
    "tickers = ['SPY', 'AAPL', 'MSFT', 'SBUX']  # List of tickers\n",
    "data = {ticker: pd.read_parquet(os.path.join(data_path, f\"{ticker}.parquet\")) for ticker in tickers}"
   ]
  },
  {
   "cell_type": "code",
   "execution_count": 4,
   "id": "0ffbd04a",
   "metadata": {},
   "outputs": [],
   "source": [
    "portfolio_registry = PortfolioRegistry()"
   ]
  },
  {
   "cell_type": "code",
   "execution_count": 5,
   "id": "1e16c088",
   "metadata": {},
   "outputs": [
    {
     "data": {
      "text/plain": [
       "['default', 'default0']"
      ]
     },
     "execution_count": 5,
     "metadata": {},
     "output_type": "execute_result"
    }
   ],
   "source": [
    "portfolio_registry.available()"
   ]
  },
  {
   "cell_type": "code",
   "execution_count": 7,
   "id": "8caa7ccb",
   "metadata": {},
   "outputs": [],
   "source": [
    "default_portfolio = portfolio_registry.get('default')"
   ]
  },
  {
   "cell_type": "code",
   "execution_count": 8,
   "id": "57c5a1ad",
   "metadata": {},
   "outputs": [
    {
     "data": {
      "text/plain": [
       "{'equity_curve': Series([], dtype: float64),\n",
       " 'cash_curve': Series([], dtype: float64),\n",
       " 'positions_value_curve': Series([], dtype: float64),\n",
       " 'returns': Series([], dtype: float64),\n",
       " 'cumulative_return': 0.0,\n",
       " 'sharpe_ratio': nan,\n",
       " 'max_drawdown': 0.0,\n",
       " 'trades': [],\n",
       " 'holdings': {},\n",
       " 'final_cash': 100000.0,\n",
       " 'final_positions': {}}"
      ]
     },
     "execution_count": 8,
     "metadata": {},
     "output_type": "execute_result"
    }
   ],
   "source": [
    "default_portfolio.get_results()"
   ]
  },
  {
   "cell_type": "code",
   "execution_count": null,
   "id": "65d3ff26",
   "metadata": {},
   "outputs": [],
   "source": []
  }
 ],
 "metadata": {
  "kernelspec": {
   "display_name": "base",
   "language": "python",
   "name": "python3"
  },
  "language_info": {
   "codemirror_mode": {
    "name": "ipython",
    "version": 3
   },
   "file_extension": ".py",
   "mimetype": "text/x-python",
   "name": "python",
   "nbconvert_exporter": "python",
   "pygments_lexer": "ipython3",
   "version": "3.12.7"
  }
 },
 "nbformat": 4,
 "nbformat_minor": 5
}
