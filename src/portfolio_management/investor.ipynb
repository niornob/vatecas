{
 "cells": [
  {
   "cell_type": "code",
   "execution_count": 1,
   "id": "d8ebfe93",
   "metadata": {},
   "outputs": [],
   "source": [
    "\"\"\"\n",
    "this block is needed at the beginning of all notebooks to be able to load modules\n",
    "\"\"\"\n",
    "import os\n",
    "import sys\n",
    "from pathlib import Path\n",
    "import pandas as pd\n",
    "import numpy as np\n",
    "\n",
    "# Automatically find and append the project root\n",
    "root_path = Path.cwd().resolve().parents[1]  # adjust level as needed\n",
    "data_path = os.path.join(root_path, \"data\")\n",
    "src_path = os.path.join(root_path, \"src\")\n",
    "\n",
    "if str(src_path) not in sys.path:\n",
    "    sys.path.insert(0, str(src_path))"
   ]
  },
  {
   "cell_type": "code",
   "execution_count": 2,
   "id": "65fba9fd",
   "metadata": {},
   "outputs": [],
   "source": [
    "from investor.portfolio_registry import PortfolioRegistry"
   ]
  },
  {
   "cell_type": "code",
   "execution_count": 3,
   "id": "7389dd6e",
   "metadata": {},
   "outputs": [],
   "source": [
    "tickers = ['SPY', 'AAPL', 'MSFT', 'SBUX']  # List of tickers\n",
    "data = {ticker: pd.read_parquet(os.path.join(data_path, f\"{ticker}.parquet\")) for ticker in tickers}"
   ]
  },
  {
   "cell_type": "code",
   "execution_count": 4,
   "id": "0ffbd04a",
   "metadata": {},
   "outputs": [],
   "source": [
    "portfolio_registry = PortfolioRegistry()"
   ]
  },
  {
   "cell_type": "code",
   "execution_count": 5,
   "id": "a1c552e8",
   "metadata": {},
   "outputs": [
    {
     "data": {
      "text/plain": [
       "['default']"
      ]
     },
     "execution_count": 5,
     "metadata": {},
     "output_type": "execute_result"
    }
   ],
   "source": [
    "portfolio_registry.available()"
   ]
  },
  {
   "cell_type": "code",
   "execution_count": 6,
   "id": "8caa7ccb",
   "metadata": {},
   "outputs": [],
   "source": [
    "default_portfolio = portfolio_registry.get('default')"
   ]
  },
  {
   "cell_type": "code",
   "execution_count": 7,
   "id": "57c5a1ad",
   "metadata": {},
   "outputs": [
    {
     "data": {
      "text/plain": [
       "PortfolioState(cash=5000.0, positions={}, initial_cash=5000.0)"
      ]
     },
     "execution_count": 7,
     "metadata": {},
     "output_type": "execute_result"
    }
   ],
   "source": [
    "default_portfolio.portfolio.state"
   ]
  },
  {
   "cell_type": "code",
   "execution_count": 8,
   "id": "94a939bf",
   "metadata": {},
   "outputs": [
    {
     "data": {
      "text/plain": [
       "Timestamp('2025-01-01 12:00:00+0000', tz='UTC')"
      ]
     },
     "execution_count": 8,
     "metadata": {},
     "output_type": "execute_result"
    }
   ],
   "source": [
    "default_portfolio.portfolio.initial_time"
   ]
  },
  {
   "cell_type": "code",
   "execution_count": 9,
   "id": "65d3ff26",
   "metadata": {},
   "outputs": [],
   "source": [
    "# Sample data\n",
    "timestamp = pd.Timestamp(\"2023-01-01\", tz=\"UTC\")\n",
    "signals = {\"AAPL\": 0.8, \"MSFT\": -0.5, \"GOOGL\": 0.2}\n",
    "prices = {\"AAPL\": 150.0, \"MSFT\": 250.0, \"GOOGL\": 2000.0}\n",
    "\n",
    "# Process signals\n",
    "orders = default_portfolio.process_signals(signals, prices, timestamp)"
   ]
  },
  {
   "cell_type": "code",
   "execution_count": 10,
   "id": "c02ebc18",
   "metadata": {},
   "outputs": [
    {
     "data": {
      "text/plain": [
       "{'AAPL': Position(ticker='AAPL', size=26.666666666666668, last_trade_time=Timestamp('2023-01-01 00:00:00+0000', tz='UTC')),\n",
       " 'GOOGL': Position(ticker='GOOGL', size=0.1, last_trade_time=Timestamp('2023-01-01 00:00:00+0000', tz='UTC'))}"
      ]
     },
     "execution_count": 10,
     "metadata": {},
     "output_type": "execute_result"
    }
   ],
   "source": [
    "default_portfolio.portfolio.state.positions"
   ]
  },
  {
   "cell_type": "code",
   "execution_count": 11,
   "id": "741f5798",
   "metadata": {},
   "outputs": [],
   "source": [
    "timestamp = pd.Timestamp(\"2023-01-02\", tz=\"UTC\")\n",
    "signals = {\"AAPL\": 0.3, \"MSFT\": 0.1, \"GOOGL\": -0.7}\n",
    "prices = {\"AAPL\": 155.0, \"MSFT\": 245.0, \"GOOGL\": 1950.0}\n",
    "\n",
    "orders = default_portfolio.process_signals(signals, prices, timestamp)"
   ]
  },
  {
   "cell_type": "code",
   "execution_count": 12,
   "id": "dbc1f0ef",
   "metadata": {},
   "outputs": [
    {
     "name": "stdout",
     "output_type": "stream",
     "text": [
      "Final cash: 720.0\n",
      "Cumulative return: 2.57%\n",
      "Sharpe ratio: 11.22\n",
      "Max drawdown: 0.00%\n"
     ]
    }
   ],
   "source": [
    "results = default_portfolio.get_results()\n",
    "print(f\"Final cash: {results['final_cash']}\")\n",
    "print(f\"Cumulative return: {results['cumulative_return']:.2%}\")\n",
    "print(f\"Sharpe ratio: {results['sharpe_ratio']:.2f}\")\n",
    "print(f\"Max drawdown: {results['max_drawdown']:.2%}\")"
   ]
  },
  {
   "cell_type": "code",
   "execution_count": null,
   "id": "8bd1cef6",
   "metadata": {},
   "outputs": [],
   "source": []
  }
 ],
 "metadata": {
  "kernelspec": {
   "display_name": "base",
   "language": "python",
   "name": "python3"
  },
  "language_info": {
   "codemirror_mode": {
    "name": "ipython",
    "version": 3
   },
   "file_extension": ".py",
   "mimetype": "text/x-python",
   "name": "python",
   "nbconvert_exporter": "python",
   "pygments_lexer": "ipython3",
   "version": "3.12.7"
  }
 },
 "nbformat": 4,
 "nbformat_minor": 5
}
