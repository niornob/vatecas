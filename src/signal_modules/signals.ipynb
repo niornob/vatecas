{
 "cells": [
  {
   "cell_type": "code",
   "execution_count": 1,
   "id": "5709d7b2",
   "metadata": {},
   "outputs": [],
   "source": [
    "\"\"\"\n",
    "this block is needed at the beginning of all notebooks to be able to load modules\n",
    "\"\"\"\n",
    "import os\n",
    "import sys\n",
    "from pathlib import Path\n",
    "import pandas as pd\n",
    "import math\n",
    "import numpy as np\n",
    "from scipy.signal import detrend\n",
    "import pywt\n",
    "\n",
    "# Automatically find and append the project root\n",
    "root_path = Path.cwd().resolve().parents[1]  # adjust level as needed\n",
    "data_path = os.path.join(root_path, \"data\")\n",
    "src_path = os.path.join(root_path, \"src\")\n",
    "\n",
    "if str(src_path) not in sys.path:\n",
    "    sys.path.insert(0, str(src_path))\n"
   ]
  },
  {
   "cell_type": "code",
   "execution_count": 2,
   "id": "54318a1b",
   "metadata": {},
   "outputs": [
    {
     "name": "stdout",
     "output_type": "stream",
     "text": [
      "E:\\vatecas\\src\n"
     ]
    }
   ],
   "source": [
    "print(src_path)"
   ]
  },
  {
   "cell_type": "code",
   "execution_count": 3,
   "id": "94f8efe6",
   "metadata": {},
   "outputs": [],
   "source": [
    "from signal_modules.base.signal_module import SignalModule\n",
    "from regression.Kalman_filter import KalmanFilter"
   ]
  },
  {
   "cell_type": "code",
   "execution_count": 4,
   "id": "3fffe589",
   "metadata": {},
   "outputs": [],
   "source": [
    "noise = 1e-3\n",
    "kalman = KalmanFilter(process_noise=noise, obs_noise_scale=3 * noise)"
   ]
  },
  {
   "cell_type": "code",
   "execution_count": 5,
   "id": "e745d7d4",
   "metadata": {},
   "outputs": [],
   "source": [
    "signal_module = SignalModule(oracle=kalman, smoothing_window=1)"
   ]
  },
  {
   "cell_type": "code",
   "execution_count": 6,
   "id": "a6f12dad",
   "metadata": {},
   "outputs": [],
   "source": [
    "initial_time = pd.to_datetime('2023-01-01T12:00:00+00:00')\n",
    "final_time = pd.Timestamp('2024-01-01T12:00:00+00:00')\n",
    "\n",
    "tickers = [\"SPY\", \"TSLA\", \"NVDA\"]  # List of tickers\n",
    "data_files = [os.path.join(data_path, f\"{ticker}.parquet\") for ticker in tickers]\n",
    "data = {\n",
    "    ticker: pd.read_parquet(path).loc[initial_time:final_time]\n",
    "    for ticker, path in zip(tickers, data_files)\n",
    "}\n",
    "timeline = pd.DatetimeIndex(\n",
    "    pd.to_datetime(sorted(set().union(*[df.index for df in data.values()])))\n",
    ")\n",
    "data = {tk: df.reindex(timeline).ffill() for tk, df in data.items()}\n",
    "closing_data = {tk: df['adjClose'] for tk, df in data.items()}"
   ]
  },
  {
   "cell_type": "code",
   "execution_count": 7,
   "id": "c42360f2",
   "metadata": {},
   "outputs": [
    {
     "data": {
      "text/plain": [
       "SignalResult(signals=array([-0.2308353 , -0.96402758,  0.05093989]), raw_predictions=array([468.11346469, 252.47432698,  49.40193131]), smoothed_predictions=array([[468.28610956, 255.54033994,  49.32377249],\n",
       "       [468.11346469, 252.47432698,  49.40193131]]), volatility_adjustments=array([0.20873269, 0.1       , 0.1       ]), tickers=['SPY', 'TSLA', 'NVDA'])"
      ]
     },
     "execution_count": 7,
     "metadata": {},
     "output_type": "execute_result"
    }
   ],
   "source": [
    "signal_module.generate_signals(closing_data, past_predictions={})"
   ]
  },
  {
   "cell_type": "code",
   "execution_count": 8,
   "id": "14b7ff72",
   "metadata": {},
   "outputs": [],
   "source": [
    "tomorrow = kalman.predict(closing_data)"
   ]
  },
  {
   "cell_type": "code",
   "execution_count": 9,
   "id": "5ed3a361",
   "metadata": {},
   "outputs": [
    {
     "data": {
      "application/vnd.microsoft.datawrangler.viewer.v0+json": {
       "columns": [
        {
         "name": "index",
         "rawType": "datetime64[ns, UTC]",
         "type": "unknown"
        },
        {
         "name": "SPY",
         "rawType": "float64",
         "type": "float"
        },
        {
         "name": "TSLA",
         "rawType": "float64",
         "type": "float"
        },
        {
         "name": "NVDA",
         "rawType": "float64",
         "type": "float"
        }
       ],
       "ref": "0ec84b0f-a7f5-46f2-a15b-a06756ccdbb1",
       "rows": [
        [
         "2023-12-22 00:00:00+00:00",
         "466.2544662543",
         "252.54",
         "48.8120096782"
        ],
        [
         "2023-12-26 00:00:00+00:00",
         "468.223238412",
         "256.61",
         "49.2608442542"
        ],
        [
         "2023-12-27 00:00:00+00:00",
         "469.0698104398",
         "261.44",
         "49.3987934112"
        ],
        [
         "2023-12-28 00:00:00+00:00",
         "469.246999934",
         "253.18",
         "49.5037547263"
        ],
        [
         "2023-12-29 00:00:00+00:00",
         "467.8885471452",
         "248.48",
         "49.5037547263"
        ]
       ],
       "shape": {
        "columns": 3,
        "rows": 5
       }
      },
      "text/html": [
       "<div>\n",
       "<style scoped>\n",
       "    .dataframe tbody tr th:only-of-type {\n",
       "        vertical-align: middle;\n",
       "    }\n",
       "\n",
       "    .dataframe tbody tr th {\n",
       "        vertical-align: top;\n",
       "    }\n",
       "\n",
       "    .dataframe thead th {\n",
       "        text-align: right;\n",
       "    }\n",
       "</style>\n",
       "<table border=\"1\" class=\"dataframe\">\n",
       "  <thead>\n",
       "    <tr style=\"text-align: right;\">\n",
       "      <th></th>\n",
       "      <th>SPY</th>\n",
       "      <th>TSLA</th>\n",
       "      <th>NVDA</th>\n",
       "    </tr>\n",
       "  </thead>\n",
       "  <tbody>\n",
       "    <tr>\n",
       "      <th>2023-12-22 00:00:00+00:00</th>\n",
       "      <td>466.254466</td>\n",
       "      <td>252.54</td>\n",
       "      <td>48.812010</td>\n",
       "    </tr>\n",
       "    <tr>\n",
       "      <th>2023-12-26 00:00:00+00:00</th>\n",
       "      <td>468.223238</td>\n",
       "      <td>256.61</td>\n",
       "      <td>49.260844</td>\n",
       "    </tr>\n",
       "    <tr>\n",
       "      <th>2023-12-27 00:00:00+00:00</th>\n",
       "      <td>469.069810</td>\n",
       "      <td>261.44</td>\n",
       "      <td>49.398793</td>\n",
       "    </tr>\n",
       "    <tr>\n",
       "      <th>2023-12-28 00:00:00+00:00</th>\n",
       "      <td>469.247000</td>\n",
       "      <td>253.18</td>\n",
       "      <td>49.503755</td>\n",
       "    </tr>\n",
       "    <tr>\n",
       "      <th>2023-12-29 00:00:00+00:00</th>\n",
       "      <td>467.888547</td>\n",
       "      <td>248.48</td>\n",
       "      <td>49.503755</td>\n",
       "    </tr>\n",
       "  </tbody>\n",
       "</table>\n",
       "</div>"
      ],
      "text/plain": [
       "                                  SPY    TSLA       NVDA\n",
       "2023-12-22 00:00:00+00:00  466.254466  252.54  48.812010\n",
       "2023-12-26 00:00:00+00:00  468.223238  256.61  49.260844\n",
       "2023-12-27 00:00:00+00:00  469.069810  261.44  49.398793\n",
       "2023-12-28 00:00:00+00:00  469.247000  253.18  49.503755\n",
       "2023-12-29 00:00:00+00:00  467.888547  248.48  49.503755"
      ]
     },
     "execution_count": 9,
     "metadata": {},
     "output_type": "execute_result"
    }
   ],
   "source": [
    "pd.DataFrame(closing_data).tail()"
   ]
  },
  {
   "cell_type": "code",
   "execution_count": null,
   "id": "0231ba4d",
   "metadata": {},
   "outputs": [],
   "source": []
  }
 ],
 "metadata": {
  "kernelspec": {
   "display_name": "Python 3",
   "language": "python",
   "name": "python3"
  },
  "language_info": {
   "codemirror_mode": {
    "name": "ipython",
    "version": 3
   },
   "file_extension": ".py",
   "mimetype": "text/x-python",
   "name": "python",
   "nbconvert_exporter": "python",
   "pygments_lexer": "ipython3",
   "version": "3.13.2"
  }
 },
 "nbformat": 4,
 "nbformat_minor": 5
}
